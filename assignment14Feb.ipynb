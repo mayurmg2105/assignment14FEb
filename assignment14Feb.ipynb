{
 "cells": [
  {
   "cell_type": "code",
   "execution_count": null,
   "id": "1c3e0713-0100-405a-b0bb-28e3ca156340",
   "metadata": {},
   "outputs": [],
   "source": [
    "#1)what is multithreading in python? hy is it used? Name the module used to handle threads in python"
   ]
  },
  {
   "cell_type": "code",
   "execution_count": null,
   "id": "90a1e88e-9f4c-409c-a701-e92ed381cca8",
   "metadata": {},
   "outputs": [],
   "source": [
    "#Ans\n",
    "A thread is a unit of execution within a process. Multithreading refers to concurrently executing multiple threads by rapidly switching the control of the CPU between threads (called context switching).\n",
    "Threading in python is used to run multiple threads (tasks, function calls) at the same time. Note that this does not mean that they are executed on different CPUs. Python threads will NOT make your program faster if it already uses 100 % CPU time. In that case, you probably want to look into parallel programming.\n",
    "The module used to handle threads in python is \"threading\" module"
   ]
  },
  {
   "cell_type": "code",
   "execution_count": 1,
   "id": "bf9f8d8e-be6a-4113-b336-39dffc5fde9a",
   "metadata": {},
   "outputs": [],
   "source": [
    "#Create a function to download file \n",
    "import urllib.request\n",
    "\n",
    "def file_download(url, filename):\n",
    "    \"\"\"\n",
    "    This function downloads files from url and saves it into given filename\n",
    "    \"\"\"\n",
    "    try: \n",
    "        logging.info('This is start of file_download function')\n",
    "        urllib.request.urlretrieve(url,filename)\n",
    "        logging.info(f'File from url {url} download successfully and saved as {filename}')\n",
    "    except ValueError as e:\n",
    "        logging.error(f'{url} Url entered is incorrect, error occured : {e}')\n",
    "        raise ValueError('Please enter proper url , File not found')\n",
    "    finally:\n",
    "        logging.info('This is end of file_download function')  "
   ]
  },
  {
   "cell_type": "code",
   "execution_count": 2,
   "id": "95ced429-25d5-4a49-8351-858f1996b671",
   "metadata": {},
   "outputs": [],
   "source": [
    "# Creating a list of URL's and filenames to save\n",
    "url_list = ['https://raw.githubusercontent.com/utkarshg1/PWSkills-Assignments/main/Assignment%2012%20-%2013%20February%202023/Assignment12Log.txt',\n",
    " 'https://raw.githubusercontent.com/utkarshg1/PWSkills-Assignments/main/Assignment%2011%20-%2012%20February%202023/TryExceptLog.txt',\n",
    " 'https://raw.githubusercontent.com/utkarshg1/PWSkills-Assignments/main/Assignment%2010%20-%20%2010%20February%202023/students.txt']\n",
    "\n",
    "data_file_list = ['data1.txt','data2.txt','data3.txt']"
   ]
  },
  {
   "cell_type": "code",
   "execution_count": 3,
   "id": "8659999d-121b-463c-a8b6-0bc648137266",
   "metadata": {},
   "outputs": [
    {
     "ename": "NameError",
     "evalue": "name 'logging' is not defined",
     "output_type": "error",
     "traceback": [
      "\u001b[0;31m---------------------------------------------------------------------------\u001b[0m",
      "\u001b[0;31mNameError\u001b[0m                                 Traceback (most recent call last)",
      "Cell \u001b[0;32mIn[3], line 4\u001b[0m\n\u001b[1;32m      2\u001b[0m \u001b[38;5;28;01mimport\u001b[39;00m \u001b[38;5;21;01mthreading\u001b[39;00m\n\u001b[1;32m      3\u001b[0m thread \u001b[38;5;241m=\u001b[39m [threading\u001b[38;5;241m.\u001b[39mThread(target\u001b[38;5;241m=\u001b[39mfile_download, args\u001b[38;5;241m=\u001b[39m(url_list[i],data_file_list[i])) \u001b[38;5;28;01mfor\u001b[39;00m i \u001b[38;5;129;01min\u001b[39;00m \u001b[38;5;28mrange\u001b[39m(\u001b[38;5;28mlen\u001b[39m(url_list))]\n\u001b[0;32m----> 4\u001b[0m \u001b[43mlogging\u001b[49m\u001b[38;5;241m.\u001b[39minfo(thread)\n\u001b[1;32m      5\u001b[0m thread\n",
      "\u001b[0;31mNameError\u001b[0m: name 'logging' is not defined"
     ]
    }
   ],
   "source": [
    "# Creating Multithreading operation\n",
    "import threading\n",
    "thread = [threading.Thread(target=file_download, args=(url_list[i],data_file_list[i])) for i in range(len(url_list))]\n",
    "logging.info(thread)\n",
    "thread"
   ]
  },
  {
   "cell_type": "code",
   "execution_count": 4,
   "id": "2e16094b-c12d-41d5-b657-7e462349e2f0",
   "metadata": {},
   "outputs": [
    {
     "ename": "NameError",
     "evalue": "name 'logging' is not defined",
     "output_type": "error",
     "traceback": [
      "\u001b[0;31m---------------------------------------------------------------------------\u001b[0m",
      "\u001b[0;31mNameError\u001b[0m                                 Traceback (most recent call last)",
      "File \u001b[0;32m<timed exec>:3\u001b[0m\n",
      "\u001b[0;31mNameError\u001b[0m: name 'logging' is not defined",
      "\nDuring handling of the above exception, another exception occurred:\n",
      "\u001b[0;31mNameError\u001b[0m                                 Traceback (most recent call last)",
      "File \u001b[0;32m<timed exec>:14\u001b[0m\n",
      "\u001b[0;31mNameError\u001b[0m: name 'logging' is not defined"
     ]
    }
   ],
   "source": [
    "%%time\n",
    "# Timing the MultiThreading Time\n",
    "try:\n",
    "    logging.info('This is start of Multithreading')\n",
    "    for t in thread:\n",
    "        t.start()\n",
    "    logging.info('All Data Downloaded Successfully')\n",
    "except ValueError as e:\n",
    "    logging.error(f'url not found error occured and handled {e}' )\n",
    "    print('Url not found exception occured and handled :',e)\n",
    "except RuntimeError as e:\n",
    "    logging.error(f'RuntimeError occured : {e}')\n",
    "    print('Threads can only be started once, Error occured :',e)\n",
    "finally:\n",
    "    logging.info('This is end of Multithreading')"
   ]
  },
  {
   "cell_type": "code",
   "execution_count": 5,
   "id": "c7de369b-736e-45a9-b182-703c325a3f5f",
   "metadata": {},
   "outputs": [
    {
     "ename": "NameError",
     "evalue": "name 'logging' is not defined",
     "output_type": "error",
     "traceback": [
      "\u001b[0;31m---------------------------------------------------------------------------\u001b[0m",
      "\u001b[0;31mNameError\u001b[0m                                 Traceback (most recent call last)",
      "File \u001b[0;32m<timed exec>:3\u001b[0m\n",
      "\u001b[0;31mNameError\u001b[0m: name 'logging' is not defined",
      "\nDuring handling of the above exception, another exception occurred:\n",
      "\u001b[0;31mNameError\u001b[0m                                 Traceback (most recent call last)",
      "File \u001b[0;32m<timed exec>:11\u001b[0m\n",
      "\u001b[0;31mNameError\u001b[0m: name 'logging' is not defined"
     ]
    }
   ],
   "source": [
    "%%time\n",
    "# Timing The Normal For loop method to download files sequentially\n",
    "try :\n",
    "    logging.info('This is start of normal looping method')\n",
    "    for i in range(len(url_list)):\n",
    "        file_download(url_list[i],data_file_list[i])\n",
    "    logging.info('All Files Download successfully')\n",
    "except ValueError as e:\n",
    "    logging.error(f'Please enter proper url , Error occured : {e}')\n",
    "    print('Url not found exception occured and handled :',e)\n",
    "finally:\n",
    "    logging.info('This is end of normal looping method')"
   ]
  },
  {
   "cell_type": "code",
   "execution_count": 7,
   "id": "d740bf32-46db-4092-afb9-f613d1475b32",
   "metadata": {},
   "outputs": [],
   "source": [
    "\n",
    "\n",
    "#Question 2: Why Threading Module is used ? Write the use of following functions\n",
    "#activeCount()\n",
    "#currentThread()\n",
    "#enumerate"
   ]
  },
  {
   "cell_type": "code",
   "execution_count": null,
   "id": "8aa7435e-e348-487f-b864-43bb3550ae75",
   "metadata": {},
   "outputs": [],
   "source": [
    "#Answer\n",
    " Python \"threading\" module allows you to have different parts of your program run concurrently and can simplify your design."
   ]
  },
  {
   "cell_type": "code",
   "execution_count": null,
   "id": "1ba14c89-3e13-4c14-9a6a-85ac980b1a4b",
   "metadata": {},
   "outputs": [],
   "source": [
    "1. active_count() - Returns the number of thread objects that are active.(activeCount is deprecated latest function is active_count)"
   ]
  },
  {
   "cell_type": "code",
   "execution_count": 8,
   "id": "6fce435b-bc63-4384-a3b3-08f43392d06e",
   "metadata": {},
   "outputs": [
    {
     "name": "stdout",
     "output_type": "stream",
     "text": [
      "Currently active threads are : 8\n"
     ]
    },
    {
     "ename": "NameError",
     "evalue": "name 'logging' is not defined",
     "output_type": "error",
     "traceback": [
      "\u001b[0;31m---------------------------------------------------------------------------\u001b[0m",
      "\u001b[0;31mNameError\u001b[0m                                 Traceback (most recent call last)",
      "Cell \u001b[0;32mIn[8], line 3\u001b[0m\n\u001b[1;32m      1\u001b[0m \u001b[38;5;66;03m# Example 1: active_count() \u001b[39;00m\n\u001b[1;32m      2\u001b[0m \u001b[38;5;28mprint\u001b[39m(\u001b[38;5;124mf\u001b[39m\u001b[38;5;124m\"\u001b[39m\u001b[38;5;124mCurrently active threads are : \u001b[39m\u001b[38;5;132;01m{\u001b[39;00mthreading\u001b[38;5;241m.\u001b[39mactive_count()\u001b[38;5;132;01m}\u001b[39;00m\u001b[38;5;124m\"\u001b[39m)\n\u001b[0;32m----> 3\u001b[0m \u001b[43mlogging\u001b[49m\u001b[38;5;241m.\u001b[39minfo(\u001b[38;5;124mf\u001b[39m\u001b[38;5;124m\"\u001b[39m\u001b[38;5;124mCurrently active threads are : \u001b[39m\u001b[38;5;132;01m{\u001b[39;00mthreading\u001b[38;5;241m.\u001b[39mactive_count()\u001b[38;5;132;01m}\u001b[39;00m\u001b[38;5;124m\"\u001b[39m)\n",
      "\u001b[0;31mNameError\u001b[0m: name 'logging' is not defined"
     ]
    }
   ],
   "source": [
    "# Example 1: active_count() \n",
    "print(f\"Currently active threads are : {threading.active_count()}\")\n",
    "logging.info(f\"Currently active threads are : {threading.active_count()}\")"
   ]
  },
  {
   "cell_type": "code",
   "execution_count": null,
   "id": "87e39ae3-b6dc-4479-a7ea-4deaa6e6febf",
   "metadata": {},
   "outputs": [],
   "source": [
    "2. current_thread() - it returns the current Thread object active at the moment.(currentThread is deprecated latest function is current_thread)"
   ]
  },
  {
   "cell_type": "code",
   "execution_count": null,
   "id": "67ab9203-88e5-405d-b4fe-cbacc2302c1e",
   "metadata": {},
   "outputs": [],
   "source": [
    "# Example 2: current_thread()\n",
    "print(f\"Current thread is : {threading.current_thread()}\")\n",
    "logging.info(f\"Current thread is : {threading.current_thread()}\")"
   ]
  },
  {
   "cell_type": "code",
   "execution_count": null,
   "id": "f3689ec5-e404-42ff-94d0-866830db2290",
   "metadata": {},
   "outputs": [],
   "source": [
    "3. enumerate() - Returns a list of all thread objects that are currently active."
   ]
  },
  {
   "cell_type": "code",
   "execution_count": null,
   "id": "33c87205-57fe-4348-a6fc-b4d16b4fb468",
   "metadata": {},
   "outputs": [],
   "source": [
    "# Example 3: enumerate()\n",
    "print(f'List of all active threads is : {threading.enumerate()}')\n",
    "logging.info(f'List of all active threads is : {threading.enumerate()}')"
   ]
  },
  {
   "cell_type": "code",
   "execution_count": null,
   "id": "acb4d7a9-e5f6-44ea-a533-47b281c1d12f",
   "metadata": {},
   "outputs": [],
   "source": [
    "#Question 3: Explain the following functions:\n",
    "1.run()\n",
    "2.start()\n",
    "3.join()\n",
    "4.isAlive()"
   ]
  },
  {
   "cell_type": "code",
   "execution_count": 9,
   "id": "5892c7f0-852a-4b5e-9555-4c6b118e2e1f",
   "metadata": {},
   "outputs": [
    {
     "ename": "SyntaxError",
     "evalue": "invalid character '’' (U+2019) (2191018114.py, line 1)",
     "output_type": "error",
     "traceback": [
      "\u001b[0;36m  Cell \u001b[0;32mIn[9], line 1\u001b[0;36m\u001b[0m\n\u001b[0;31m    1. run() - The standard run() method invokes the callable object passed to the object’s constructor as the target argument, if any, with positional and keyword arguments taken from the args and kwargs arguments, respectively.\u001b[0m\n\u001b[0m                                                                                         ^\u001b[0m\n\u001b[0;31mSyntaxError\u001b[0m\u001b[0;31m:\u001b[0m invalid character '’' (U+2019)\n"
     ]
    }
   ],
   "source": [
    "\n",
    "1. run() - The standard run() method invokes the callable object passed to the object’s constructor as the target argument, if any, with positional and keyword arguments taken from the args and kwargs arguments, respectively."
   ]
  },
  {
   "cell_type": "code",
   "execution_count": 10,
   "id": "5d4c137c-4c70-4ca3-85da-f8b68100bff9",
   "metadata": {},
   "outputs": [
    {
     "ename": "SyntaxError",
     "evalue": "incomplete input (3900655958.py, line 4)",
     "output_type": "error",
     "traceback": [
      "\u001b[0;36m  Cell \u001b[0;32mIn[10], line 4\u001b[0;36m\u001b[0m\n\u001b[0;31m    logging.info('run() Command executed'\u001b[0m\n\u001b[0m                                         ^\u001b[0m\n\u001b[0;31mSyntaxError\u001b[0m\u001b[0;31m:\u001b[0m incomplete input\n"
     ]
    }
   ],
   "source": [
    "# Example 1 run()\n",
    "t = threading.Thread(target=print,args=['Hello World','1'])\n",
    "t.run()\n",
    "logging.info('run() Command executed'"
   ]
  },
  {
   "cell_type": "code",
   "execution_count": null,
   "id": "4b4ca4df-7fc9-4314-a795-cc8ae1fef1ad",
   "metadata": {},
   "outputs": [],
   "source": [
    "\n",
    "2. start() - Start the thread’s activity. It must be called at most once per thread object. It arranges for the object’s run() method to be invoked in a separate thread of control.This method will raise a RuntimeError if called more than once on the same thread object."
   ]
  },
  {
   "cell_type": "code",
   "execution_count": null,
   "id": "c2595df0-6767-471a-aba9-162b0f2ab702",
   "metadata": {},
   "outputs": [],
   "source": [
    "3. join() - Wait until the thread terminates. This blocks the calling thread until the thread whose join() method is called terminates – either normally or through an unhandled exception – or until the optional timeout occurs.\n"
   ]
  },
  {
   "cell_type": "code",
   "execution_count": 11,
   "id": "4957e89f-d78a-41a2-a62a-c519b5d72fe8",
   "metadata": {},
   "outputs": [
    {
     "name": "stderr",
     "output_type": "stream",
     "text": [
      "Exception in thread Thread-8 (counter_function):\n",
      "Traceback (most recent call last):\n",
      "  File \"/opt/conda/lib/python3.10/threading.py\", line 1016, in _bootstrap_inner\n",
      "    self.run()\n",
      "  File \"/opt/conda/lib/python3.10/threading.py\", line 953, in run\n",
      "    self._target(*self._args, **self._kwargs)\n",
      "  File \"/tmp/ipykernel_110/1072461230.py\", line 7, in counter_function\n",
      "NameError: name 'logging' is not defined\n"
     ]
    },
    {
     "name": "stdout",
     "output_type": "stream",
     "text": [
      "Counter Value : 0\n",
      "Thread Finished\n"
     ]
    },
    {
     "ename": "NameError",
     "evalue": "name 'logging' is not defined",
     "output_type": "error",
     "traceback": [
      "\u001b[0;31m---------------------------------------------------------------------------\u001b[0m",
      "\u001b[0;31mNameError\u001b[0m                                 Traceback (most recent call last)",
      "Cell \u001b[0;32mIn[11], line 15\u001b[0m\n\u001b[1;32m     13\u001b[0m thread2\u001b[38;5;241m.\u001b[39mjoin() \u001b[38;5;66;03m# Join will wait until the thread is terminated\u001b[39;00m\n\u001b[1;32m     14\u001b[0m \u001b[38;5;28mprint\u001b[39m(\u001b[38;5;124m'\u001b[39m\u001b[38;5;124mThread Finished\u001b[39m\u001b[38;5;124m'\u001b[39m)\n\u001b[0;32m---> 15\u001b[0m \u001b[43mlogging\u001b[49m\u001b[38;5;241m.\u001b[39minfo(\u001b[38;5;124m'\u001b[39m\u001b[38;5;124mThread Finished\u001b[39m\u001b[38;5;124m'\u001b[39m)\n",
      "\u001b[0;31mNameError\u001b[0m: name 'logging' is not defined"
     ]
    }
   ],
   "source": [
    "# Example 2,3 start() and join()\n",
    "# function to create threads\n",
    "from time import sleep\n",
    "def counter_function(arg):\n",
    "    for i in range(arg):\n",
    "        print(f\"Counter Value : {i}\")\n",
    "        logging.info(f\"Counter Value : {i}\")\n",
    "    # Wait for 1 second\n",
    "    sleep(1)\n",
    "\n",
    "thread2 = threading.Thread(target=counter_function,args=(10,))\n",
    "thread2.start() # Starts executing the threads seperately\n",
    "thread2.join() # Join will wait until the thread is terminated\n",
    "print('Thread Finished')\n",
    "logging.info('Thread Finished')"
   ]
  },
  {
   "cell_type": "code",
   "execution_count": null,
   "id": "5c47afcd-52d8-4b12-8e2d-4e60cbe69b52",
   "metadata": {},
   "outputs": [],
   "source": [
    "4. is_alive() - (isAlive is deprecated latest function - is_alive) Return whether the thread is alive. This method returns True just before the run() method starts until just after the run() method terminates"
   ]
  },
  {
   "cell_type": "code",
   "execution_count": 12,
   "id": "e7df5614-c9d9-4d95-9bd6-514ed9dc396a",
   "metadata": {},
   "outputs": [
    {
     "name": "stdout",
     "output_type": "stream",
     "text": [
      "Check for thread2 is alive :  False\n"
     ]
    },
    {
     "ename": "NameError",
     "evalue": "name 'logging' is not defined",
     "output_type": "error",
     "traceback": [
      "\u001b[0;31m---------------------------------------------------------------------------\u001b[0m",
      "\u001b[0;31mNameError\u001b[0m                                 Traceback (most recent call last)",
      "Cell \u001b[0;32mIn[12], line 2\u001b[0m\n\u001b[1;32m      1\u001b[0m \u001b[38;5;28mprint\u001b[39m(\u001b[38;5;124m'\u001b[39m\u001b[38;5;124mCheck for thread2 is alive : \u001b[39m\u001b[38;5;124m'\u001b[39m,thread2\u001b[38;5;241m.\u001b[39mis_alive())\n\u001b[0;32m----> 2\u001b[0m \u001b[43mlogging\u001b[49m\u001b[38;5;241m.\u001b[39minfo(\u001b[38;5;124mf\u001b[39m\u001b[38;5;124m'\u001b[39m\u001b[38;5;124mthread 2 is alive : \u001b[39m\u001b[38;5;132;01m{\u001b[39;00mthread2\u001b[38;5;241m.\u001b[39mis_alive()\u001b[38;5;132;01m}\u001b[39;00m\u001b[38;5;124m'\u001b[39m)\n",
      "\u001b[0;31mNameError\u001b[0m: name 'logging' is not defined"
     ]
    }
   ],
   "source": [
    "print('Check for thread2 is alive : ',thread2.is_alive())\n",
    "logging.info(f'thread 2 is alive : {thread2.is_alive()}')"
   ]
  },
  {
   "cell_type": "code",
   "execution_count": null,
   "id": "767edb91-d006-4b3d-a477-747f91b2f74d",
   "metadata": {},
   "outputs": [],
   "source": []
  },
  {
   "cell_type": "code",
   "execution_count": null,
   "id": "71e57590-2637-4bae-bcd6-69959ee530e3",
   "metadata": {},
   "outputs": [],
   "source": [
    "#Question 4: Write a python program that creates two threads. Thread 1 must print list of squares and Thread 2 must print list of cubes."
   ]
  },
  {
   "cell_type": "code",
   "execution_count": 13,
   "id": "01bdf98c-dc03-4751-b99c-6575f8007562",
   "metadata": {},
   "outputs": [],
   "source": [
    "## Define List Squares method\n",
    "def list_squares(start,end):\n",
    "    \"\"\"\n",
    "    This function prints list of squares\n",
    "    for given start and end numbers\n",
    "    \"\"\"\n",
    "    for i in range(start, end+1):\n",
    "        print(f'Square of {i} is : {i*i}')\n",
    "        logging.info(f'Square of {i} is : {i*i}')"
   ]
  },
  {
   "cell_type": "code",
   "execution_count": null,
   "id": "9798da68-c5e0-400a-9ad7-01f76b7b34b9",
   "metadata": {},
   "outputs": [],
   "source": [
    "# Define List Cubes method\n",
    "def list_cubes(start,end):\n",
    "    \"\"\"\n",
    "    This function prints list of cubes\n",
    "    for given start and end numbers\n",
    "    \"\"\"\n",
    "    for i in range(start, end+1):\n",
    "        print(f'Cube of {i} is : {i*i}')\n",
    "        logging.info(f'Cube of {i} is : {i**3}')"
   ]
  },
  {
   "cell_type": "code",
   "execution_count": null,
   "id": "7ab6ed1f-5a76-4a6d-be29-3ed572c8ef9f",
   "metadata": {},
   "outputs": [],
   "source": [
    "# Defining threads 1 and 2 and executing\n",
    "\n",
    "# create the threads with custom arguments\n",
    "t1 = threading.Thread(target=list_squares, args=(1, 10))\n",
    "t2 = threading.Thread(target=list_cubes, args=(7, 16))\n",
    "\n",
    "# start the threads\n",
    "t1.start()\n",
    "t2.start()\n",
    "\n",
    "# wait for the threads to finish\n",
    "t1.join()\n",
    "t2.join()"
   ]
  },
  {
   "cell_type": "code",
   "execution_count": null,
   "id": "c12717ed-9a39-4fe7-8ce4-f676f76fa551",
   "metadata": {},
   "outputs": [],
   "source": [
    "#Question 5: State advantages and disadvantages of Multithreading."
   ]
  },
  {
   "cell_type": "code",
   "execution_count": null,
   "id": "8e073897-7424-4e5e-b124-11ff87ea2def",
   "metadata": {},
   "outputs": [],
   "source": [
    "Advantages of multithreading:\n",
    "1.Improved performance: Multithreading can improve the performance of a program by allowing different parts of the program to run simultaneously. This can make the program more efficient and reduce the overall execution time."
   ]
  },
  {
   "cell_type": "code",
   "execution_count": null,
   "id": "5b847110-5dff-4453-bf51-6a9de309bee8",
   "metadata": {},
   "outputs": [],
   "source": [
    "2.Better resource utilization: Multithreading can make better use of available resources such as CPU and memory by distributing the workload across multiple threads."
   ]
  },
  {
   "cell_type": "code",
   "execution_count": null,
   "id": "acbe4516-a772-4d7f-91c7-9cf635739473",
   "metadata": {},
   "outputs": [],
   "source": [
    "3.\n",
    "Enhanced user experience: Multithreading can improve the user experience by making the program more responsive and interactive"
   ]
  },
  {
   "cell_type": "code",
   "execution_count": null,
   "id": "906164d9-aa7c-421f-8f33-2b0e11677fb2",
   "metadata": {},
   "outputs": [],
   "source": [
    "4. Simplified coding: Multithreading can simplify coding by allowing the programmer to break down complex tasks into smaller, more manageable threads."
   ]
  },
  {
   "cell_type": "code",
   "execution_count": null,
   "id": "ef0eeeee-54e7-4292-8371-ad59dd3eb3f2",
   "metadata": {},
   "outputs": [],
   "source": [
    "5.Scalability: Multithreading allows the program to scale well as the number of threads can be increased based on the available resources."
   ]
  },
  {
   "cell_type": "code",
   "execution_count": null,
   "id": "df94ff5a-acaa-468f-a515-eac4f9ecf092",
   "metadata": {},
   "outputs": [],
   "source": [
    "Disadvantage of Multithreading"
   ]
  },
  {
   "cell_type": "code",
   "execution_count": null,
   "id": "8a4209ba-30b5-45d3-aabc-83d16b5d45ed",
   "metadata": {},
   "outputs": [],
   "source": [
    "Increased complexity: Multithreading can make the program more complex and harder to debug. It can be challenging to ensure that multiple threads access shared resources in a thread-safe manner, which can lead to synchronization issues."
   ]
  },
  {
   "cell_type": "code",
   "execution_count": null,
   "id": "5891f891-3104-4c41-9daf-55be0c9e81ce",
   "metadata": {},
   "outputs": [],
   "source": [
    "Overhead: Multithreading adds overhead to the program as there is additional management overhead for creating, synchronizing, and managing threads."
   ]
  },
  {
   "cell_type": "code",
   "execution_count": null,
   "id": "fa003385-0011-43a1-8c2a-1a2d9c419403",
   "metadata": {},
   "outputs": [],
   "source": []
  }
 ],
 "metadata": {
  "kernelspec": {
   "display_name": "Python 3 (ipykernel)",
   "language": "python",
   "name": "python3"
  },
  "language_info": {
   "codemirror_mode": {
    "name": "ipython",
    "version": 3
   },
   "file_extension": ".py",
   "mimetype": "text/x-python",
   "name": "python",
   "nbconvert_exporter": "python",
   "pygments_lexer": "ipython3",
   "version": "3.10.8"
  }
 },
 "nbformat": 4,
 "nbformat_minor": 5
}
